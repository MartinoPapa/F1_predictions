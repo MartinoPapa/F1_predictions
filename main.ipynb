{
 "cells": [
  {
   "cell_type": "markdown",
   "metadata": {},
   "source": [
    "# F1 Data Analysis\n",
    "\n",
    "idee:\n",
    "- pulire i dati dei giri trovando un modo di valutare gli errori (tempi che oscillano possno essere dovuti al graining)\n"
   ]
  },
  {
   "cell_type": "code",
   "execution_count": null,
   "metadata": {},
   "outputs": [],
   "source": [
    "import fastf1\n",
    "\n",
    "session = fastf1.get_session(2025, 'Australia','FP1')\n",
    "session.load()"
   ]
  },
  {
   "cell_type": "code",
   "execution_count": null,
   "metadata": {},
   "outputs": [
    {
     "name": "stderr",
     "output_type": "stream",
     "text": [
      "c:\\Users\\marti\\Desktop\\programmazione\\F1\\.venv\\lib\\site-packages\\fastf1\\core.py:3067: FutureWarning: pick_driver is deprecated and will be removed in a future release. Use pick_drivers instead.\n",
      "  warnings.warn((\"pick_driver is deprecated and will be removed\"\n"
     ]
    },
    {
     "data": {
      "text/plain": [
       "21   0 days 00:16:32.768000\n",
       "22   0 days 00:17:54.664000\n",
       "23   0 days 00:19:56.297000\n",
       "24   0 days 00:21:15.062000\n",
       "25   0 days 00:23:23.487000\n",
       "26   0 days 00:24:41.740000\n",
       "27   0 days 00:39:12.338000\n",
       "28   0 days 00:41:36.009000\n",
       "29   0 days 00:42:58.791000\n",
       "30   0 days 00:44:52.902000\n",
       "31   0 days 00:46:11.149000\n",
       "32   0 days 01:02:56.640000\n",
       "33   0 days 01:05:20.247000\n",
       "34   0 days 01:06:56.601000\n",
       "35   0 days 01:08:14.119000\n",
       "36   0 days 01:10:13.269000\n",
       "37   0 days 01:12:02.856000\n",
       "38   0 days 01:13:20.108000\n",
       "39   0 days 01:14:44.079000\n",
       "40   0 days 01:17:15.616000\n",
       "41   0 days 01:18:50.654000\n",
       "Name: Time, dtype: timedelta64[ns]"
      ]
     },
     "execution_count": 10,
     "metadata": {},
     "output_type": "execute_result"
    }
   ],
   "source": [
    "session.laps.pick_driver('NOR')"
   ]
  }
 ],
 "metadata": {
  "kernelspec": {
   "display_name": ".venv",
   "language": "python",
   "name": "python3"
  },
  "language_info": {
   "codemirror_mode": {
    "name": "ipython",
    "version": 3
   },
   "file_extension": ".py",
   "mimetype": "text/x-python",
   "name": "python",
   "nbconvert_exporter": "python",
   "pygments_lexer": "ipython3",
   "version": "3.10.4"
  }
 },
 "nbformat": 4,
 "nbformat_minor": 2
}
