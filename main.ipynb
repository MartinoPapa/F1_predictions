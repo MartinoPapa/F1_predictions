{
 "cells": [
  {
   "cell_type": "markdown",
   "metadata": {},
   "source": [
    "# F1 Data Analysis\n",
    "\n",
    "idee:\n",
    "- pulire i dati dei giri trovando un modo di valutare gli errori (tempi che oscillano possno essere dovuti al graining)\n"
   ]
  },
  {
   "cell_type": "code",
   "execution_count": null,
   "metadata": {},
   "outputs": [],
   "source": [
    "import fastf1\n",
    "import pandas as pd\n",
    "\n",
    "FP1 = fastf1.get_session(2025, 'Australia','FP1')\n",
    "FP2 = fastf1.get_session(2025, 'Australia','FP2')\n",
    "FP3 = fastf1.get_session(2025, 'Australia','FP3')\n",
    "FP1.load()\n",
    "FP2.load()\n",
    "FP3.load()\n",
    "free_practice = {'FP1': FP1, 'FP2': FP2, 'FP3': FP3}"
   ]
  },
  {
   "cell_type": "code",
   "execution_count": null,
   "metadata": {},
   "outputs": [],
   "source": [
    "FP1.laps.pick_drivers('NOR').keys()"
   ]
  },
  {
   "cell_type": "code",
   "execution_count": null,
   "metadata": {},
   "outputs": [],
   "source": [
    "def get_free_practice(driver):\n",
    "    dataset = pd.DataFrame()\n",
    "    for i in range(1,4):\n",
    "        tmp = free_practice[f'FP{i}'].laps.pick_drivers(driver)\n",
    "        tmp['Session'] = f'FP{i}'\n",
    "        dataset = pd.concat([dataset, tmp])\n",
    "    return dataset\n",
    "\n",
    "laps = get_free_practice('LEC')\n",
    "\n",
    "# we change Stint to track different free practice and stint togheter\n",
    "max_stints = laps.groupby('Session')['Stint'].max().values\n",
    "laps['Stint'] = laps['Stint'] + laps['Session'].apply(lambda x: 0 if x == 'FP1' else max_stints[0] if x == 'FP2' else max_stints[0] + max_stints[1])\n",
    "\n",
    "# we introduce a variable to track the number of laps in a stint\n",
    "laps['LapsInStint'] = laps.groupby('Stint')['LapNumber'].transform('count')\n",
    "\n",
    "#we change trackstatus to trackclear wich identifies if the track is clear or not\n",
    "laps['TrackStatus'] = laps['TrackStatus'].apply(lambda x: True if x == '1' else False)\n",
    "laps.rename(columns={'TrackStatus': 'TrackClear'}, inplace=True)\n",
    "\n",
    "# stops are handled by 'IsAccurate'\n",
    "valid_laps = laps[laps['IsAccurate'] == True]\n",
    "\n",
    "valid_laps=valid_laps[['LapTime', 'LapNumber', 'Stint','LapsInStint', 'Sector1Time', 'Sector2Time', 'Sector3Time', 'Compound', 'TyreLife', 'FreshTyre', 'TrackClear', 'Deleted', 'Session']]\n",
    "laps=laps[['LapTime', 'LapNumber', 'Stint','LapsInStint', 'Sector1Time', 'Sector2Time', 'Sector3Time', 'Compound', 'TyreLife', 'FreshTyre', 'TrackClear', 'Deleted', 'Session', 'IsAccurate']]"
   ]
  },
  {
   "cell_type": "code",
   "execution_count": null,
   "metadata": {},
   "outputs": [],
   "source": [
    "\n"
   ]
  }
 ],
 "metadata": {
  "kernelspec": {
   "display_name": ".venv",
   "language": "python",
   "name": "python3"
  },
  "language_info": {
   "codemirror_mode": {
    "name": "ipython",
    "version": 3
   },
   "file_extension": ".py",
   "mimetype": "text/x-python",
   "name": "python",
   "nbconvert_exporter": "python",
   "pygments_lexer": "ipython3",
   "version": "3.10.4"
  }
 },
 "nbformat": 4,
 "nbformat_minor": 2
}
